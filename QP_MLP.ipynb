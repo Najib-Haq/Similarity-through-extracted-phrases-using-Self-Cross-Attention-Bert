{
 "cells": [
  {
   "cell_type": "code",
   "execution_count": 1,
   "id": "f75847cf",
   "metadata": {
    "_cell_guid": "b1076dfc-b9ad-4769-8c92-a6c4dae69d19",
    "_uuid": "8f2839f25d086af736a60e9eeb907d3b93b6e0e5",
    "execution": {
     "iopub.execute_input": "2023-02-28T06:21:51.182528Z",
     "iopub.status.busy": "2023-02-28T06:21:51.181291Z",
     "iopub.status.idle": "2023-02-28T06:21:51.194831Z",
     "shell.execute_reply": "2023-02-28T06:21:51.193632Z"
    },
    "papermill": {
     "duration": 0.025649,
     "end_time": "2023-02-28T06:21:51.197995",
     "exception": false,
     "start_time": "2023-02-28T06:21:51.172346",
     "status": "completed"
    },
    "tags": []
   },
   "outputs": [],
   "source": [
    "import numpy as np # linear algebra\n",
    "import pandas as pd # data processing, CSV file I/O (e.g. pd.read_csv)"
   ]
  },
  {
   "cell_type": "code",
   "execution_count": 2,
   "id": "a80818b3",
   "metadata": {
    "execution": {
     "iopub.execute_input": "2023-02-28T06:21:51.212961Z",
     "iopub.status.busy": "2023-02-28T06:21:51.211766Z",
     "iopub.status.idle": "2023-02-28T06:21:52.309949Z",
     "shell.execute_reply": "2023-02-28T06:21:52.308619Z"
    },
    "papermill": {
     "duration": 1.108745,
     "end_time": "2023-02-28T06:21:52.313112",
     "exception": false,
     "start_time": "2023-02-28T06:21:51.204367",
     "status": "completed"
    },
    "tags": []
   },
   "outputs": [
    {
     "data": {
      "text/html": [
       "<div>\n",
       "<style scoped>\n",
       "    .dataframe tbody tr th:only-of-type {\n",
       "        vertical-align: middle;\n",
       "    }\n",
       "\n",
       "    .dataframe tbody tr th {\n",
       "        vertical-align: top;\n",
       "    }\n",
       "\n",
       "    .dataframe thead th {\n",
       "        text-align: right;\n",
       "    }\n",
       "</style>\n",
       "<table border=\"1\" class=\"dataframe\">\n",
       "  <thead>\n",
       "    <tr style=\"text-align: right;\">\n",
       "      <th></th>\n",
       "      <th>anchor</th>\n",
       "      <th>target</th>\n",
       "      <th>sample_id</th>\n",
       "      <th>text</th>\n",
       "      <th>score</th>\n",
       "    </tr>\n",
       "  </thead>\n",
       "  <tbody>\n",
       "    <tr>\n",
       "      <th>0</th>\n",
       "      <td>invest share</td>\n",
       "      <td>invest share</td>\n",
       "      <td>0</td>\n",
       "      <td>invest share[SEP]invest share</td>\n",
       "      <td>0.998756</td>\n",
       "    </tr>\n",
       "    <tr>\n",
       "      <th>1</th>\n",
       "      <td>invest share</td>\n",
       "      <td>share market</td>\n",
       "      <td>0</td>\n",
       "      <td>invest share[SEP]share market</td>\n",
       "      <td>0.000645</td>\n",
       "    </tr>\n",
       "    <tr>\n",
       "      <th>2</th>\n",
       "      <td>invest share</td>\n",
       "      <td>guide invest</td>\n",
       "      <td>0</td>\n",
       "      <td>invest share[SEP]guide invest</td>\n",
       "      <td>0.083592</td>\n",
       "    </tr>\n",
       "    <tr>\n",
       "      <th>3</th>\n",
       "      <td>invest share</td>\n",
       "      <td>invest</td>\n",
       "      <td>0</td>\n",
       "      <td>invest share[SEP]invest</td>\n",
       "      <td>0.443991</td>\n",
       "    </tr>\n",
       "    <tr>\n",
       "      <th>4</th>\n",
       "      <td>invest share</td>\n",
       "      <td>step guide</td>\n",
       "      <td>0</td>\n",
       "      <td>invest share[SEP]step guide</td>\n",
       "      <td>0.000148</td>\n",
       "    </tr>\n",
       "  </tbody>\n",
       "</table>\n",
       "</div>"
      ],
      "text/plain": [
       "         anchor        target  sample_id                           text  \\\n",
       "0  invest share  invest share          0  invest share[SEP]invest share   \n",
       "1  invest share  share market          0  invest share[SEP]share market   \n",
       "2  invest share  guide invest          0  invest share[SEP]guide invest   \n",
       "3  invest share        invest          0        invest share[SEP]invest   \n",
       "4  invest share    step guide          0    invest share[SEP]step guide   \n",
       "\n",
       "      score  \n",
       "0  0.998756  \n",
       "1  0.000645  \n",
       "2  0.083592  \n",
       "3  0.443991  \n",
       "4  0.000148  "
      ]
     },
     "execution_count": 2,
     "metadata": {},
     "output_type": "execute_result"
    }
   ],
   "source": [
    "df = pd.read_csv(\"/kaggle/input/472-mlproject-application-v2-reshape-fix/keyphrase_scores.csv\")\n",
    "df.head()"
   ]
  },
  {
   "cell_type": "code",
   "execution_count": 3,
   "id": "772cac8d",
   "metadata": {
    "execution": {
     "iopub.execute_input": "2023-02-28T06:21:52.328503Z",
     "iopub.status.busy": "2023-02-28T06:21:52.327479Z",
     "iopub.status.idle": "2023-02-28T06:21:52.460058Z",
     "shell.execute_reply": "2023-02-28T06:21:52.458538Z"
    },
    "papermill": {
     "duration": 0.143237,
     "end_time": "2023-02-28T06:21:52.462993",
     "exception": false,
     "start_time": "2023-02-28T06:21:52.319756",
     "status": "completed"
    },
    "tags": []
   },
   "outputs": [
    {
     "data": {
      "text/html": [
       "<div>\n",
       "<style scoped>\n",
       "    .dataframe tbody tr th:only-of-type {\n",
       "        vertical-align: middle;\n",
       "    }\n",
       "\n",
       "    .dataframe tbody tr th {\n",
       "        vertical-align: top;\n",
       "    }\n",
       "\n",
       "    .dataframe thead th {\n",
       "        text-align: right;\n",
       "    }\n",
       "</style>\n",
       "<table border=\"1\" class=\"dataframe\">\n",
       "  <thead>\n",
       "    <tr style=\"text-align: right;\">\n",
       "      <th></th>\n",
       "      <th>id</th>\n",
       "      <th>question1</th>\n",
       "      <th>question2</th>\n",
       "      <th>label</th>\n",
       "      <th>top_5_mean</th>\n",
       "    </tr>\n",
       "  </thead>\n",
       "  <tbody>\n",
       "    <tr>\n",
       "      <th>0</th>\n",
       "      <td>0</td>\n",
       "      <td>What is the step by step guide to invest in sh...</td>\n",
       "      <td>What is the step by step guide to invest in sh...</td>\n",
       "      <td>0.912277</td>\n",
       "      <td>0.891790</td>\n",
       "    </tr>\n",
       "    <tr>\n",
       "      <th>1</th>\n",
       "      <td>1</td>\n",
       "      <td>What is the story of Kohinoor (Koh-i-Noor) Dia...</td>\n",
       "      <td>What would happen if the Indian government sto...</td>\n",
       "      <td>0.655141</td>\n",
       "      <td>0.694460</td>\n",
       "    </tr>\n",
       "    <tr>\n",
       "      <th>2</th>\n",
       "      <td>2</td>\n",
       "      <td>How can I increase the speed of my internet co...</td>\n",
       "      <td>How can Internet speed be increased by hacking...</td>\n",
       "      <td>0.515561</td>\n",
       "      <td>0.538707</td>\n",
       "    </tr>\n",
       "    <tr>\n",
       "      <th>3</th>\n",
       "      <td>3</td>\n",
       "      <td>Why am I mentally very lonely? How can I solve...</td>\n",
       "      <td>Find the remainder when [math]23^{24}[/math] i...</td>\n",
       "      <td>0.104022</td>\n",
       "      <td>0.185442</td>\n",
       "    </tr>\n",
       "    <tr>\n",
       "      <th>4</th>\n",
       "      <td>4</td>\n",
       "      <td>Which one dissolve in water quikly sugar, salt...</td>\n",
       "      <td>Which fish would survive in salt water?</td>\n",
       "      <td>0.325348</td>\n",
       "      <td>0.286883</td>\n",
       "    </tr>\n",
       "  </tbody>\n",
       "</table>\n",
       "</div>"
      ],
      "text/plain": [
       "   id                                          question1  \\\n",
       "0   0  What is the step by step guide to invest in sh...   \n",
       "1   1  What is the story of Kohinoor (Koh-i-Noor) Dia...   \n",
       "2   2  How can I increase the speed of my internet co...   \n",
       "3   3  Why am I mentally very lonely? How can I solve...   \n",
       "4   4  Which one dissolve in water quikly sugar, salt...   \n",
       "\n",
       "                                           question2     label  top_5_mean  \n",
       "0  What is the step by step guide to invest in sh...  0.912277    0.891790  \n",
       "1  What would happen if the Indian government sto...  0.655141    0.694460  \n",
       "2  How can Internet speed be increased by hacking...  0.515561    0.538707  \n",
       "3  Find the remainder when [math]23^{24}[/math] i...  0.104022    0.185442  \n",
       "4            Which fish would survive in salt water?  0.325348    0.286883  "
      ]
     },
     "execution_count": 3,
     "metadata": {},
     "output_type": "execute_result"
    }
   ],
   "source": [
    "gt = pd.read_csv(\"/kaggle/input/472-mlproject-application-v2-reshape-fix/quora_results.csv\")\n",
    "gt.head()"
   ]
  },
  {
   "cell_type": "code",
   "execution_count": 4,
   "id": "6bf8256d",
   "metadata": {
    "execution": {
     "iopub.execute_input": "2023-02-28T06:21:52.478706Z",
     "iopub.status.busy": "2023-02-28T06:21:52.478310Z",
     "iopub.status.idle": "2023-02-28T06:22:21.595869Z",
     "shell.execute_reply": "2023-02-28T06:22:21.594802Z"
    },
    "papermill": {
     "duration": 29.128835,
     "end_time": "2023-02-28T06:22:21.598737",
     "exception": false,
     "start_time": "2023-02-28T06:21:52.469902",
     "status": "completed"
    },
    "tags": []
   },
   "outputs": [
    {
     "name": "stderr",
     "output_type": "stream",
     "text": [
      "100%|██████████| 19980/19980 [00:29<00:00, 687.03it/s]\n"
     ]
    }
   ],
   "source": [
    "from tqdm import tqdm\n",
    "\n",
    "all_ids = df.sample_id.unique()\n",
    "\n",
    "inputs = []\n",
    "labels = []\n",
    "for sid in tqdm(all_ids):\n",
    "    scores = df[df.sample_id == sid]['score'].values\n",
    "    if len(scores) < 25:\n",
    "        scores = np.pad(scores, (0, 25-len(scores)), 'constant')\n",
    "    \n",
    "    inputs.append(scores)\n",
    "    labels.append(gt[gt.id == sid].label.values[0])\n"
   ]
  },
  {
   "cell_type": "code",
   "execution_count": 5,
   "id": "4c5d6104",
   "metadata": {
    "execution": {
     "iopub.execute_input": "2023-02-28T06:22:21.650444Z",
     "iopub.status.busy": "2023-02-28T06:22:21.649939Z",
     "iopub.status.idle": "2023-02-28T06:22:21.697502Z",
     "shell.execute_reply": "2023-02-28T06:22:21.695850Z"
    },
    "papermill": {
     "duration": 0.077592,
     "end_time": "2023-02-28T06:22:21.700623",
     "exception": false,
     "start_time": "2023-02-28T06:22:21.623031",
     "status": "completed"
    },
    "tags": []
   },
   "outputs": [
    {
     "data": {
      "text/plain": [
       "((19980, 25), (19980,))"
      ]
     },
     "execution_count": 5,
     "metadata": {},
     "output_type": "execute_result"
    }
   ],
   "source": [
    "inputs = np.stack(inputs)\n",
    "labels = np.array(labels)\n",
    "\n",
    "inputs.shape, labels.shape"
   ]
  },
  {
   "cell_type": "code",
   "execution_count": 6,
   "id": "a472614d",
   "metadata": {
    "execution": {
     "iopub.execute_input": "2023-02-28T06:22:21.752455Z",
     "iopub.status.busy": "2023-02-28T06:22:21.751757Z",
     "iopub.status.idle": "2023-02-28T06:22:22.915922Z",
     "shell.execute_reply": "2023-02-28T06:22:22.914576Z"
    },
    "papermill": {
     "duration": 1.1936,
     "end_time": "2023-02-28T06:22:22.918755",
     "exception": false,
     "start_time": "2023-02-28T06:22:21.725155",
     "status": "completed"
    },
    "tags": []
   },
   "outputs": [
    {
     "data": {
      "text/plain": [
       "((14985, 25), (4995, 25), (14985,), (4995,))"
      ]
     },
     "execution_count": 6,
     "metadata": {},
     "output_type": "execute_result"
    }
   ],
   "source": [
    "from sklearn.neural_network import MLPRegressor\n",
    "from sklearn.model_selection import train_test_split\n",
    "\n",
    "X_train, X_test, y_train, y_test = train_test_split(inputs, labels, random_state=42)\n",
    "\n",
    "X_train.shape, X_test.shape, y_train.shape, y_test.shape"
   ]
  },
  {
   "cell_type": "markdown",
   "id": "339fcab7",
   "metadata": {
    "papermill": {
     "duration": 0.023775,
     "end_time": "2023-02-28T06:22:22.966856",
     "exception": false,
     "start_time": "2023-02-28T06:22:22.943081",
     "status": "completed"
    },
    "tags": []
   },
   "source": [
    "# MLP"
   ]
  },
  {
   "cell_type": "code",
   "execution_count": 7,
   "id": "f3c3781e",
   "metadata": {
    "execution": {
     "iopub.execute_input": "2023-02-28T06:22:23.017631Z",
     "iopub.status.busy": "2023-02-28T06:22:23.017169Z",
     "iopub.status.idle": "2023-02-28T06:22:26.790657Z",
     "shell.execute_reply": "2023-02-28T06:22:26.787487Z"
    },
    "papermill": {
     "duration": 3.803931,
     "end_time": "2023-02-28T06:22:26.795107",
     "exception": false,
     "start_time": "2023-02-28T06:22:22.991176",
     "status": "completed"
    },
    "tags": []
   },
   "outputs": [
    {
     "name": "stdout",
     "output_type": "stream",
     "text": [
      "CPU times: user 8.52 s, sys: 6.28 s, total: 14.8 s\n",
      "Wall time: 3.76 s\n"
     ]
    },
    {
     "data": {
      "text/plain": [
       "0.705151640112658"
      ]
     },
     "execution_count": 7,
     "metadata": {},
     "output_type": "execute_result"
    }
   ],
   "source": [
    "%%time\n",
    "regr = MLPRegressor(random_state=42, max_iter=1000)\n",
    "regr.fit(X_train, y_train)\n",
    "regr.score(X_test, y_test)"
   ]
  },
  {
   "cell_type": "code",
   "execution_count": 8,
   "id": "e553389b",
   "metadata": {
    "execution": {
     "iopub.execute_input": "2023-02-28T06:22:26.911178Z",
     "iopub.status.busy": "2023-02-28T06:22:26.910749Z",
     "iopub.status.idle": "2023-02-28T06:22:26.931485Z",
     "shell.execute_reply": "2023-02-28T06:22:26.929836Z"
    },
    "papermill": {
     "duration": 0.076794,
     "end_time": "2023-02-28T06:22:26.935695",
     "exception": false,
     "start_time": "2023-02-28T06:22:26.858901",
     "status": "completed"
    },
    "tags": []
   },
   "outputs": [
    {
     "data": {
      "text/plain": [
       "(4995,)"
      ]
     },
     "execution_count": 8,
     "metadata": {},
     "output_type": "execute_result"
    }
   ],
   "source": [
    "preds = regr.predict(X_test)\n",
    "preds.shape"
   ]
  },
  {
   "cell_type": "code",
   "execution_count": 9,
   "id": "9157a31a",
   "metadata": {
    "execution": {
     "iopub.execute_input": "2023-02-28T06:22:27.054469Z",
     "iopub.status.busy": "2023-02-28T06:22:27.054102Z",
     "iopub.status.idle": "2023-02-28T06:22:27.061613Z",
     "shell.execute_reply": "2023-02-28T06:22:27.060517Z"
    },
    "papermill": {
     "duration": 0.0648,
     "end_time": "2023-02-28T06:22:27.064074",
     "exception": false,
     "start_time": "2023-02-28T06:22:26.999274",
     "status": "completed"
    },
    "tags": []
   },
   "outputs": [
    {
     "data": {
      "text/plain": [
       "0.11265334292113632"
      ]
     },
     "execution_count": 9,
     "metadata": {},
     "output_type": "execute_result"
    }
   ],
   "source": [
    "np.mean(abs(y_test - preds))"
   ]
  },
  {
   "cell_type": "code",
   "execution_count": 10,
   "id": "e50644d8",
   "metadata": {
    "execution": {
     "iopub.execute_input": "2023-02-28T06:22:27.115431Z",
     "iopub.status.busy": "2023-02-28T06:22:27.114703Z",
     "iopub.status.idle": "2023-02-28T06:22:27.125337Z",
     "shell.execute_reply": "2023-02-28T06:22:27.123915Z"
    },
    "papermill": {
     "duration": 0.039069,
     "end_time": "2023-02-28T06:22:27.127720",
     "exception": false,
     "start_time": "2023-02-28T06:22:27.088651",
     "status": "completed"
    },
    "tags": []
   },
   "outputs": [],
   "source": [
    "from joblib import dump, load\n",
    "dump(regr, 'regressor_mlp.joblib')\n",
    "regr2 = load('regressor_mlp.joblib') "
   ]
  },
  {
   "cell_type": "code",
   "execution_count": 11,
   "id": "090efd0f",
   "metadata": {
    "execution": {
     "iopub.execute_input": "2023-02-28T06:22:27.178255Z",
     "iopub.status.busy": "2023-02-28T06:22:27.177500Z",
     "iopub.status.idle": "2023-02-28T06:22:27.196784Z",
     "shell.execute_reply": "2023-02-28T06:22:27.195230Z"
    },
    "papermill": {
     "duration": 0.049171,
     "end_time": "2023-02-28T06:22:27.201019",
     "exception": false,
     "start_time": "2023-02-28T06:22:27.151848",
     "status": "completed"
    },
    "tags": []
   },
   "outputs": [
    {
     "data": {
      "text/plain": [
       "0.11265334292113632"
      ]
     },
     "execution_count": 11,
     "metadata": {},
     "output_type": "execute_result"
    }
   ],
   "source": [
    "preds = regr2.predict(X_test)\n",
    "np.mean(abs(y_test - preds))"
   ]
  },
  {
   "cell_type": "code",
   "execution_count": 12,
   "id": "a2d39375",
   "metadata": {
    "execution": {
     "iopub.execute_input": "2023-02-28T06:22:27.320026Z",
     "iopub.status.busy": "2023-02-28T06:22:27.319602Z",
     "iopub.status.idle": "2023-02-28T06:22:27.325971Z",
     "shell.execute_reply": "2023-02-28T06:22:27.324837Z"
    },
    "papermill": {
     "duration": 0.063238,
     "end_time": "2023-02-28T06:22:27.328496",
     "exception": false,
     "start_time": "2023-02-28T06:22:27.265258",
     "status": "completed"
    },
    "tags": []
   },
   "outputs": [],
   "source": [
    "import pickle\n",
    "# save the model to disk\n",
    "filename = 'regressor_mlp.sav'\n",
    "pickle.dump(regr, open(filename, 'wb'))"
   ]
  },
  {
   "cell_type": "code",
   "execution_count": 13,
   "id": "b067d3e1",
   "metadata": {
    "execution": {
     "iopub.execute_input": "2023-02-28T06:22:27.380168Z",
     "iopub.status.busy": "2023-02-28T06:22:27.379738Z",
     "iopub.status.idle": "2023-02-28T06:22:27.400043Z",
     "shell.execute_reply": "2023-02-28T06:22:27.398535Z"
    },
    "papermill": {
     "duration": 0.049749,
     "end_time": "2023-02-28T06:22:27.403643",
     "exception": false,
     "start_time": "2023-02-28T06:22:27.353894",
     "status": "completed"
    },
    "tags": []
   },
   "outputs": [
    {
     "data": {
      "text/plain": [
       "0.11265334292113632"
      ]
     },
     "execution_count": 13,
     "metadata": {},
     "output_type": "execute_result"
    }
   ],
   "source": [
    "regr2 = pickle.load(open(filename, 'rb'))\n",
    "preds = regr2.predict(X_test)\n",
    "np.mean(abs(y_test - preds))"
   ]
  },
  {
   "cell_type": "markdown",
   "id": "18070ed7",
   "metadata": {
    "papermill": {
     "duration": 0.053758,
     "end_time": "2023-02-28T06:22:27.521509",
     "exception": false,
     "start_time": "2023-02-28T06:22:27.467751",
     "status": "completed"
    },
    "tags": []
   },
   "source": [
    "# Random Forest"
   ]
  },
  {
   "cell_type": "code",
   "execution_count": 14,
   "id": "3313bc5f",
   "metadata": {
    "execution": {
     "iopub.execute_input": "2023-02-28T06:22:27.573817Z",
     "iopub.status.busy": "2023-02-28T06:22:27.572926Z",
     "iopub.status.idle": "2023-02-28T06:24:11.790429Z",
     "shell.execute_reply": "2023-02-28T06:24:11.789122Z"
    },
    "papermill": {
     "duration": 104.272162,
     "end_time": "2023-02-28T06:24:11.818990",
     "exception": false,
     "start_time": "2023-02-28T06:22:27.546828",
     "status": "completed"
    },
    "tags": []
   },
   "outputs": [
    {
     "name": "stdout",
     "output_type": "stream",
     "text": [
      "CPU times: user 1min 43s, sys: 428 ms, total: 1min 44s\n",
      "Wall time: 1min 44s\n"
     ]
    },
    {
     "data": {
      "text/plain": [
       "RandomForestRegressor(n_estimators=300, random_state=42)"
      ]
     },
     "execution_count": 14,
     "metadata": {},
     "output_type": "execute_result"
    }
   ],
   "source": [
    "%%time\n",
    "from sklearn.ensemble import RandomForestRegressor\n",
    "\n",
    "forest_regressor = RandomForestRegressor(n_estimators = 300, random_state = 42)\n",
    "forest_regressor.fit(X_train, y_train)"
   ]
  },
  {
   "cell_type": "code",
   "execution_count": 15,
   "id": "4ff4621e",
   "metadata": {
    "execution": {
     "iopub.execute_input": "2023-02-28T06:24:11.871983Z",
     "iopub.status.busy": "2023-02-28T06:24:11.871478Z",
     "iopub.status.idle": "2023-02-28T06:24:12.378259Z",
     "shell.execute_reply": "2023-02-28T06:24:12.377125Z"
    },
    "papermill": {
     "duration": 0.536804,
     "end_time": "2023-02-28T06:24:12.380865",
     "exception": false,
     "start_time": "2023-02-28T06:24:11.844061",
     "status": "completed"
    },
    "tags": []
   },
   "outputs": [
    {
     "data": {
      "text/plain": [
       "0.11405343417483878"
      ]
     },
     "execution_count": 15,
     "metadata": {},
     "output_type": "execute_result"
    }
   ],
   "source": [
    "preds = forest_regressor.predict(X_test)\n",
    "np.mean(abs(y_test - preds))"
   ]
  },
  {
   "cell_type": "markdown",
   "id": "64cf652c",
   "metadata": {
    "papermill": {
     "duration": 0.025111,
     "end_time": "2023-02-28T06:24:12.430725",
     "exception": false,
     "start_time": "2023-02-28T06:24:12.405614",
     "status": "completed"
    },
    "tags": []
   },
   "source": [
    "# SVC"
   ]
  },
  {
   "cell_type": "code",
   "execution_count": 16,
   "id": "8bda1fe8",
   "metadata": {
    "execution": {
     "iopub.execute_input": "2023-02-28T06:24:12.482217Z",
     "iopub.status.busy": "2023-02-28T06:24:12.481562Z",
     "iopub.status.idle": "2023-02-28T06:24:22.682927Z",
     "shell.execute_reply": "2023-02-28T06:24:22.681833Z"
    },
    "papermill": {
     "duration": 10.229969,
     "end_time": "2023-02-28T06:24:22.685209",
     "exception": false,
     "start_time": "2023-02-28T06:24:12.455240",
     "status": "completed"
    },
    "tags": []
   },
   "outputs": [
    {
     "name": "stdout",
     "output_type": "stream",
     "text": [
      "CPU times: user 9.96 s, sys: 223 ms, total: 10.2 s\n",
      "Wall time: 10.2 s\n"
     ]
    },
    {
     "data": {
      "text/plain": [
       "0.1185915736567972"
      ]
     },
     "execution_count": 16,
     "metadata": {},
     "output_type": "execute_result"
    }
   ],
   "source": [
    "%%time\n",
    "from sklearn.svm import SVR\n",
    "\n",
    "svr_regressor = SVR(kernel='rbf', gamma='auto')\n",
    "svr_regressor.fit(X_train, y_train)\n",
    "preds = svr_regressor.predict(X_test)\n",
    "np.mean(abs(y_test - preds))"
   ]
  },
  {
   "cell_type": "code",
   "execution_count": 17,
   "id": "6240e8c1",
   "metadata": {
    "execution": {
     "iopub.execute_input": "2023-02-28T06:24:22.737379Z",
     "iopub.status.busy": "2023-02-28T06:24:22.737007Z",
     "iopub.status.idle": "2023-02-28T06:24:59.653545Z",
     "shell.execute_reply": "2023-02-28T06:24:59.652325Z"
    },
    "papermill": {
     "duration": 36.971394,
     "end_time": "2023-02-28T06:24:59.681602",
     "exception": false,
     "start_time": "2023-02-28T06:24:22.710208",
     "status": "completed"
    },
    "tags": []
   },
   "outputs": [
    {
     "name": "stdout",
     "output_type": "stream",
     "text": [
      "CPU times: user 2min 24s, sys: 618 ms, total: 2min 25s\n",
      "Wall time: 36.9 s\n"
     ]
    },
    {
     "data": {
      "text/plain": [
       "XGBRegressor(base_score=0.5, booster='gbtree', callbacks=None,\n",
       "             colsample_bylevel=1, colsample_bynode=1, colsample_bytree=0.8,\n",
       "             early_stopping_rounds=None, enable_categorical=False, eta=0.1,\n",
       "             eval_metric=None, gamma=0, gpu_id=-1, grow_policy='depthwise',\n",
       "             importance_type=None, interaction_constraints='',\n",
       "             learning_rate=0.100000001, max_bin=256, max_cat_to_onehot=4,\n",
       "             max_delta_step=0, max_depth=7, max_leaves=0, min_child_weight=1,\n",
       "             missing=nan, monotone_constraints='()', n_estimators=1000,\n",
       "             n_jobs=0, num_parallel_tree=1, predictor='auto', random_state=0,\n",
       "             reg_alpha=0, ...)"
      ]
     },
     "execution_count": 17,
     "metadata": {},
     "output_type": "execute_result"
    }
   ],
   "source": [
    "%%time\n",
    "from xgboost import XGBRegressor\n",
    "model = XGBRegressor(n_estimators=1000, max_depth=7, eta=0.1, subsample=0.7, colsample_bytree=0.8)\n",
    "model.fit(X_train, y_train)"
   ]
  },
  {
   "cell_type": "code",
   "execution_count": 18,
   "id": "6f902525",
   "metadata": {
    "execution": {
     "iopub.execute_input": "2023-02-28T06:24:59.734706Z",
     "iopub.status.busy": "2023-02-28T06:24:59.734316Z",
     "iopub.status.idle": "2023-02-28T06:24:59.806264Z",
     "shell.execute_reply": "2023-02-28T06:24:59.805228Z"
    },
    "papermill": {
     "duration": 0.102114,
     "end_time": "2023-02-28T06:24:59.809024",
     "exception": false,
     "start_time": "2023-02-28T06:24:59.706910",
     "status": "completed"
    },
    "tags": []
   },
   "outputs": [
    {
     "data": {
      "text/plain": [
       "0.11339118352483933"
      ]
     },
     "execution_count": 18,
     "metadata": {},
     "output_type": "execute_result"
    }
   ],
   "source": [
    "preds = model.predict(X_test)\n",
    "np.mean(abs(y_test - preds))"
   ]
  },
  {
   "cell_type": "markdown",
   "id": "8c343ac5",
   "metadata": {
    "papermill": {
     "duration": 0.025003,
     "end_time": "2023-02-28T06:24:59.860509",
     "exception": false,
     "start_time": "2023-02-28T06:24:59.835506",
     "status": "completed"
    },
    "tags": []
   },
   "source": [
    "# Top 5 mean"
   ]
  },
  {
   "cell_type": "code",
   "execution_count": 19,
   "id": "c563510b",
   "metadata": {
    "execution": {
     "iopub.execute_input": "2023-02-28T06:24:59.912671Z",
     "iopub.status.busy": "2023-02-28T06:24:59.911672Z",
     "iopub.status.idle": "2023-02-28T06:24:59.918829Z",
     "shell.execute_reply": "2023-02-28T06:24:59.917838Z"
    },
    "papermill": {
     "duration": 0.035503,
     "end_time": "2023-02-28T06:24:59.920884",
     "exception": false,
     "start_time": "2023-02-28T06:24:59.885381",
     "status": "completed"
    },
    "tags": []
   },
   "outputs": [
    {
     "name": "stdout",
     "output_type": "stream",
     "text": [
      "Mean difference: 0.142\n"
     ]
    }
   ],
   "source": [
    "TOP_N_METRIC = 5\n",
    "abs_diff = (gt[f'top_{TOP_N_METRIC}_mean'] - gt['label']).abs()\n",
    "mean_abs_diff = abs_diff.mean()\n",
    "print(f'Mean difference: {mean_abs_diff:.3f}')"
   ]
  },
  {
   "cell_type": "code",
   "execution_count": null,
   "id": "90991c08",
   "metadata": {
    "papermill": {
     "duration": 0.024595,
     "end_time": "2023-02-28T06:24:59.970330",
     "exception": false,
     "start_time": "2023-02-28T06:24:59.945735",
     "status": "completed"
    },
    "tags": []
   },
   "outputs": [],
   "source": []
  }
 ],
 "metadata": {
  "kernelspec": {
   "display_name": "base",
   "language": "python",
   "name": "python3"
  },
  "language_info": {
   "codemirror_mode": {
    "name": "ipython",
    "version": 3
   },
   "file_extension": ".py",
   "mimetype": "text/x-python",
   "name": "python",
   "nbconvert_exporter": "python",
   "pygments_lexer": "ipython3",
   "version": "3.9.13"
  },
  "papermill": {
   "default_parameters": {},
   "duration": 200.171312,
   "end_time": "2023-02-28T06:25:00.818644",
   "environment_variables": {},
   "exception": null,
   "input_path": "__notebook__.ipynb",
   "output_path": "__notebook__.ipynb",
   "parameters": {},
   "start_time": "2023-02-28T06:21:40.647332",
   "version": "2.4.0"
  },
  "vscode": {
   "interpreter": {
    "hash": "b683bd4b87c8b16609ac9a3ef3aab015b96a8503b853fa71d3fe1e7ebcd29d95"
   }
  }
 },
 "nbformat": 4,
 "nbformat_minor": 5
}
